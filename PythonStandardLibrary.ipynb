{
  "nbformat": 4,
  "nbformat_minor": 0,
  "metadata": {
    "colab": {
      "provenance": []
    },
    "kernelspec": {
      "name": "python3",
      "display_name": "Python 3"
    },
    "language_info": {
      "name": "python"
    }
  },
  "cells": [
    {
      "cell_type": "markdown",
      "source": [
        "# Instructions\n",
        "\n",
        "Read through the text and enter the requested code in each of the code blocks below. Save your completed sheet, export it from Google Drive, and upload your completed sheet to your GitHub repository. Submit the link to your GitHub repository in Canvas to submit your assignment."
      ],
      "metadata": {
        "id": "QBzkb9RuoNEh"
      }
    },
    {
      "cell_type": "markdown",
      "source": [
        "# The Python Standard Library"
      ],
      "metadata": {
        "id": "nLnwmr88eIEX"
      }
    },
    {
      "cell_type": "markdown",
      "source": [
        "You've learned the basics of the Python programming language. You can accomplish many programming tasks using the structures you've learned already. However, there are many common tasks that many programmers need to accomplish over and over again. The Python Standard Library is a collection of modules and packages that come bundled with Python, providing a wide range of functionality to help developers perform common programming tasks without needing to install additional packages. This saves time and effort by reducing the need to write code from scratch. Using the standard library encourages a consistent coding style and approach among Python developers. This promotes better collaboration and understanding when sharing code or working on projects together."
      ],
      "metadata": {
        "id": "3rEE0bsscF1U"
      }
    },
    {
      "cell_type": "markdown",
      "source": [
        "# Packages in the Pyton Standard Library Highlighted by W3 School.\n",
        "\n",
        "The W3 School tutorial highlights several packages from the Python Standard Library."
      ],
      "metadata": {
        "id": "2IN8tGNuhrM8"
      }
    },
    {
      "cell_type": "markdown",
      "source": [
        "## The datetime package\n",
        "\n",
        "Review the W3 School tutorial page. https://www.w3schools.com/python/python_datetime.asp"
      ],
      "metadata": {
        "id": "Jp03BJ5HiMGa"
      }
    },
    {
      "cell_type": "code",
      "execution_count": 3,
      "metadata": {
        "id": "p5Ps2HPVb4Bo",
        "colab": {
          "base_uri": "https://localhost:8080/"
        },
        "outputId": "9fd9827e-d931-4bfa-ab81-deb5dabee5e9"
      },
      "outputs": [
        {
          "output_type": "stream",
          "name": "stdout",
          "text": [
            "2024\n",
            "Monday\n"
          ]
        }
      ],
      "source": [
        "# Enter code to return the year and name of weekday and run this code block to view the output.\n",
        "# Hint: The code is one of the examples.\n",
        "import datetime\n",
        "x = datetime.datetime.now()\n",
        "print(x.year)\n",
        "print(x.strftime(\"%A\"))"
      ]
    },
    {
      "cell_type": "code",
      "source": [],
      "metadata": {
        "id": "K3AsEsnGTLFq"
      },
      "execution_count": 1,
      "outputs": []
    },
    {
      "cell_type": "markdown",
      "source": [
        "## The Math package\n",
        "\n",
        "Review the W3 School tutorial page. https://www.w3schools.com/python/python_math.asp"
      ],
      "metadata": {
        "id": "xBtBUri6jnI3"
      }
    },
    {
      "cell_type": "code",
      "source": [
        "# Enter code to calculate the square root of 64 and print the result.\n",
        "# Hint: The code is one of the examples.\n",
        "import math\n",
        "x = math.sqrt(64)\n",
        "print(x)"
      ],
      "metadata": {
        "id": "-WgZxa-3jyHQ",
        "colab": {
          "base_uri": "https://localhost:8080/"
        },
        "outputId": "7c0aeb78-b45d-4c96-a290-8aebd41f2480"
      },
      "execution_count": 4,
      "outputs": [
        {
          "output_type": "stream",
          "name": "stdout",
          "text": [
            "8.0\n"
          ]
        }
      ]
    },
    {
      "cell_type": "markdown",
      "source": [
        "## The JSON package\n",
        "\n",
        "Review the W3 School tutorial page. https://www.w3schools.com/python/python_json.asp"
      ],
      "metadata": {
        "id": "NjY0aY6BkHDb"
      }
    },
    {
      "cell_type": "markdown",
      "source": [],
      "metadata": {
        "id": "tRCLzQyaT5Kh"
      }
    },
    {
      "cell_type": "code",
      "source": [
        "# Enter code to convert a python dictionary to JSON and print the result.\n",
        "# Hint: The code is one of the examples.\n",
        "\n",
        "import json\n",
        "\n",
        "# a Python object (dict):\n",
        "x = {\n",
        "  \"name\": \"John\",\n",
        "  \"age\": 30,\n",
        "  \"city\": \"New York\"\n",
        "}\n",
        "\n",
        "# convert into JSON:\n",
        "y = json.dumps(x)\n",
        "\n",
        "# the result is a JSON string:\n",
        "print(y)"
      ],
      "metadata": {
        "id": "RKV8nW1wkPCa",
        "colab": {
          "base_uri": "https://localhost:8080/"
        },
        "outputId": "b7d1b451-dcaf-4d05-f4bc-64e8a8f25762"
      },
      "execution_count": 5,
      "outputs": [
        {
          "output_type": "stream",
          "name": "stdout",
          "text": [
            "{\"name\": \"John\", \"age\": 30, \"city\": \"New York\"}\n"
          ]
        }
      ]
    },
    {
      "cell_type": "markdown",
      "source": [
        "## The re package\n",
        "\n",
        "Review the W3 School tutorial page. https://www.w3schools.com/python/python_regex.asp"
      ],
      "metadata": {
        "id": "TxxtygTclBkz"
      }
    },
    {
      "cell_type": "code",
      "source": [
        "# Use the re package to search the string to see if it starts with \"The\" and ends with \"Spain\" and print the result.\n",
        "# Hint: The code is one of the examples.\n",
        "\n",
        "import re\n",
        "\n",
        "txt = \"The rain in Spain\"\n",
        "x = re.search(\"^The.*Spain$\", txt)"
      ],
      "metadata": {
        "id": "zjxNogjClK0K"
      },
      "execution_count": 7,
      "outputs": []
    },
    {
      "cell_type": "markdown",
      "source": [
        "# The Python Standard Library Official Reference Page\n",
        "\n",
        "Visit the Python Standard Library reference page. https://docs.python.org/3/library/index.html\n",
        "\n",
        "There are MANY packages in the Python Standard Library besides those highlighted by the W3 School tutorials. Search the Python Standard Library reference page for the packages mentioned above. (Hint: It's probably fastest to use ctrl-f to search the page for the text you're looking for.)"
      ],
      "metadata": {
        "id": "jaNUKIOJlwO2"
      }
    },
    {
      "cell_type": "code",
      "source": [
        "# List the heading under which you found each of the packages in the comments below.\n",
        "\n",
        "# datetime heading: Data Types\n",
        "# math heading: Numeric and Mathematical Modules\n",
        "# json heading: Internet Data Handling\n",
        "# re heading: Text processing services"
      ],
      "metadata": {
        "id": "NSagDFBYm06X"
      },
      "execution_count": 8,
      "outputs": []
    },
    {
      "cell_type": "markdown",
      "source": [
        "# Submitting your assignment\n",
        "\n",
        "Save your completed work in Google Drive by going to File - Save.\n",
        "\n",
        "Export your page as a Jupyter Notebook by going to File - Download - Download .ipynb\n",
        "\n",
        "Upload your Jupyter Notebook to your GitHub repository by going to Add file - Upload files\n",
        "\n",
        "![GH_UploadFile.png](data:image/png;base64,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)\n",
        "\n",
        "Submit the link to your assignment repository in Canvas."
      ],
      "metadata": {
        "id": "rN1FXYTDn51Z"
      }
    },
    {
      "cell_type": "code",
      "source": [],
      "metadata": {
        "id": "jlvX5qtgWLDV"
      },
      "execution_count": null,
      "outputs": []
    },
    {
      "cell_type": "code",
      "source": [],
      "metadata": {
        "id": "oODs5tO_qmEz"
      },
      "execution_count": null,
      "outputs": []
    }
  ]
}